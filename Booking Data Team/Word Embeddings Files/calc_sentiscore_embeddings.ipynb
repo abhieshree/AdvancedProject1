{
 "cells": [
  {
   "cell_type": "code",
   "execution_count": 2,
   "metadata": {},
   "outputs": [],
   "source": [
    "import pandas as pd\n",
    "from sklearn.cluster import KMeans\n",
    "from sklearn.metrics import pairwise_distances_argmin_min\n",
    "from sklearn.metrics import accuracy_score, classification_report, f1_score\n",
    "from nltk.stem import WordNetLemmatizer\n",
    "from nltk.corpus import wordnet as wn, sentiwordnet as swn\n",
    "from token_embeddings import generate_embeddings\n",
    "from tokenize_clean_text import clean_text\n",
    "\n",
    "# Instantiate the WordNetLemmatizer \n",
    "lemmatizer = WordNetLemmatizer()\n"
   ]
  },
  {
   "cell_type": "markdown",
   "metadata": {},
   "source": [
    "Generate Embeddings"
   ]
  },
  {
   "cell_type": "code",
   "execution_count": 3,
   "metadata": {
    "scrolled": true
   },
   "outputs": [
    {
     "name": "stdout",
     "output_type": "stream",
     "text": [
      "Found 400000 word vectors in glove dict\n",
      "Found 32221 unique tokens in corpus\n",
      "Number of embeddings from corpus generated: 22264\n"
     ]
    }
   ],
   "source": [
    "#generate embeddings for our corpus, makes a file project_embeddings.csv and stores it in directory\n",
    "generate_embeddings(\"reviews.csv\")"
   ]
  },
  {
   "cell_type": "code",
   "execution_count": 4,
   "metadata": {},
   "outputs": [],
   "source": [
    "embeddings_df = pd.read_csv(\"project_embeddings.csv\", index_col=0)"
   ]
  },
  {
   "cell_type": "markdown",
   "metadata": {},
   "source": [
    "Clustering Function"
   ]
  },
  {
   "cell_type": "code",
   "execution_count": 6,
   "metadata": {},
   "outputs": [],
   "source": [
    "#clustering\n",
    "\n",
    "def cluster_embeddings(df, num_of_clusters):\n",
    "    \n",
    "    kmeans = KMeans(n_clusters = num_of_clusters, random_state=42).fit(df)\n",
    "    group_num = kmeans.labels_\n",
    "    geo_centroids = kmeans.cluster_centers_\n",
    "    \n",
    "    #assign nearest word to geometric centroid in embedding space as centroid\n",
    "    # find the index of the closest points from x to each class centroid\n",
    "    close = pairwise_distances_argmin_min(geo_centroids, df, metric='euclidean')\n",
    "    index_closest_points = close[0]\n",
    "    word_centroids = df.iloc[index_closest_points].index\n",
    "    \n",
    "    #create dict of group number and centroids\n",
    "    centroid_dict = {}\n",
    "    for i in range(len(index_closest_points)):\n",
    "        centroid_dict[i] = word_centroids[i]\n",
    "    \n",
    "    #create a dictionary of word and corresponding centroid\n",
    "    \n",
    "    #replace each label(group number) assigned by kmeans cluster algo with centroid word\n",
    "    cen = [centroid_dict.get(group) for group in group_num]\n",
    "\n",
    "    #create a dictionary\n",
    "    word_centroid_dict = {}\n",
    "\n",
    "    for i in range(df.shape[0]):\n",
    "        word_centroid_dict[df.index[i]] = cen[i]\n",
    "    \n",
    "    return word_centroid_dict\n",
    "    "
   ]
  },
  {
   "cell_type": "markdown",
   "metadata": {},
   "source": [
    "Replace words in reviews with their cluster centroids and then calculate score"
   ]
  },
  {
   "cell_type": "code",
   "execution_count": 7,
   "metadata": {},
   "outputs": [],
   "source": [
    "def replace_with_centroids(review, word_centroid_dict):\n",
    "    \n",
    "    new_review = [word_centroid_dict.get(word) if word in word_centroid_dict else word for word in review]\n",
    "    \n",
    "    return new_review    \n",
    "    \n",
    "    \n",
    "\n",
    "def swn_classifier(review):\n",
    " \n",
    "    sentiment = 0.0\n",
    "    tokens_count = 0.0\n",
    "    \n",
    "    #Calculating score\n",
    "    for word in review:\n",
    "        \n",
    "        lemma = lemmatizer.lemmatize(word)\n",
    "        if not lemma:\n",
    "            continue\n",
    " \n",
    "        synsets = wn.synsets(lemma)\n",
    "        if not synsets:\n",
    "            continue\n",
    "        \n",
    "        # Take the first synset, the most common\n",
    "        synset = synsets[0]\n",
    "        swn_synset = swn.senti_synset(synset.name())\n",
    "        print()\n",
    " \n",
    "        #sentiment is the difference between positive and negative score\n",
    "        sentiment += swn_synset.pos_score() - swn_synset.neg_score()\n",
    "        tokens_count += 1\n",
    " \n",
    "    # Default: neither positive, nor negative\n",
    "    if not tokens_count:\n",
    "        return 0\n",
    " \n",
    "    return sentiment"
   ]
  },
  {
   "cell_type": "markdown",
   "metadata": {},
   "source": [
    "Calling the cluster function to generate a word centroid dictionary. Num is a hyperparameter to be adjusted for best accuracy"
   ]
  },
  {
   "cell_type": "code",
   "execution_count": 8,
   "metadata": {},
   "outputs": [],
   "source": [
    "#calling the cluster function to generate a word centroid dictionary\n",
    "num = 2000   #roughly 11 words per cluster\n",
    "word_centroid_dict = cluster_embeddings(embeddings_df, num)\n",
    "    "
   ]
  },
  {
   "cell_type": "markdown",
   "metadata": {},
   "source": [
    "Import data file, process it(sentiment classification) and export it in required format"
   ]
  },
  {
   "cell_type": "code",
   "execution_count": null,
   "metadata": {},
   "outputs": [],
   "source": [
    "#import reviews file\n",
    "#use both review title and review content columns to predict score\n",
    "reviews = pd.read_csv(\"reviews.csv\")\n",
    "\n",
    "#arrays to store list of tokens, replaced words, scores\n",
    "clean_tokens = []\n",
    "replaced_tokens = []\n",
    "y_predicted = []\n",
    "\n",
    "\n",
    "#calling the main calculate function\n",
    "for review in reviews[\"full_review\"]:    \n",
    "    clean_t = clean_text(review)\n",
    "    clean_tokens.append(clean_t)\n",
    "    \n",
    "    replaced_t = replace_with_centroids(clean_t, word_centroid_dict)\n",
    "    replaced_tokens.append(replaced_t)\n",
    "    \n",
    "    senti_score = swn_classifier(replaced_t)\n",
    "    y_predicted.append(senti_score)\n",
    "\n",
    "    \n",
    "#Classify reviews according to setiment score assigned\n",
    "#1 : positive, 0 : neutral, -1 : negative \n",
    "y_classified = []\n",
    "for i in y_predicted:\n",
    "    if i > 0:\n",
    "        y_classified.append(1)\n",
    "    elif i<0:\n",
    "        y_classified.append(-1)\n",
    "    elif i==0:\n",
    "        y_classified.append(0)\n",
    "        \n",
    "\n",
    "#appending cols in df\n",
    "reviews[\"tokens\"] = clean_tokens\n",
    "reviews[\"replaced_centroids\"] = replaced_tokens\n",
    "reviews[\"sentiment_score\"] = y_predicted\n",
    "reviews[\"predicted_sentiment\"] = y_classified\n",
    "\n",
    "#exporting df\n",
    "reviews.to_csv(\"classified_full_review_embeddings.csv\", header=True)\n"
   ]
  },
  {
   "cell_type": "code",
   "execution_count": 17,
   "metadata": {
    "scrolled": false
   },
   "outputs": [
    {
     "data": {
      "text/html": [
       "<div>\n",
       "<style scoped>\n",
       "    .dataframe tbody tr th:only-of-type {\n",
       "        vertical-align: middle;\n",
       "    }\n",
       "\n",
       "    .dataframe tbody tr th {\n",
       "        vertical-align: top;\n",
       "    }\n",
       "\n",
       "    .dataframe thead th {\n",
       "        text-align: right;\n",
       "    }\n",
       "</style>\n",
       "<table border=\"1\" class=\"dataframe\">\n",
       "  <thead>\n",
       "    <tr style=\"text-align: right;\">\n",
       "      <th></th>\n",
       "      <th>hotelname</th>\n",
       "      <th>rating</th>\n",
       "      <th>reviewcontent</th>\n",
       "      <th>reviewtitle</th>\n",
       "      <th>true_sentiment</th>\n",
       "      <th>full_review</th>\n",
       "      <th>tokens</th>\n",
       "      <th>replaced_centroids</th>\n",
       "      <th>sentiment_score</th>\n",
       "      <th>predicted_sentiment</th>\n",
       "    </tr>\n",
       "  </thead>\n",
       "  <tbody>\n",
       "    <tr>\n",
       "      <th>0</th>\n",
       "      <td>Hotel Villa Piras</td>\n",
       "      <td>30</td>\n",
       "      <td>My husband and I stayed here for two nights. I...</td>\n",
       "      <td>Poor Management, Nice Staff</td>\n",
       "      <td>0</td>\n",
       "      <td>Poor Management, Nice Staff My husband and I s...</td>\n",
       "      <td>[poor, management, nice, staff, husband, staye...</td>\n",
       "      <td>[particularly, enterprise, maybe, office, daug...</td>\n",
       "      <td>0.875</td>\n",
       "      <td>1</td>\n",
       "    </tr>\n",
       "    <tr>\n",
       "      <th>1</th>\n",
       "      <td>Hotel Villa Piras</td>\n",
       "      <td>40</td>\n",
       "      <td>We arrived at the hotel late afternoon to a wa...</td>\n",
       "      <td>Lovely hotel on the hill</td>\n",
       "      <td>1</td>\n",
       "      <td>Lovely hotel on the hill We arrived at the hot...</td>\n",
       "      <td>[lovely, hotel, hill, arrived, hotel, late, af...</td>\n",
       "      <td>[gorgeous, hotel, pine, arriving, hotel, came,...</td>\n",
       "      <td>1.750</td>\n",
       "      <td>1</td>\n",
       "    </tr>\n",
       "    <tr>\n",
       "      <th>2</th>\n",
       "      <td>Hotel Punta Negra</td>\n",
       "      <td>50</td>\n",
       "      <td>My wife and i stayed for 3 nights in early Sep...</td>\n",
       "      <td>Had a really lovely time</td>\n",
       "      <td>1</td>\n",
       "      <td>Had a really lovely time My wife and i stayed ...</td>\n",
       "      <td>[really, lovely, time, wife, stayed, three, ni...</td>\n",
       "      <td>[maybe, gorgeous, though, daughter, stayed, ei...</td>\n",
       "      <td>0.750</td>\n",
       "      <td>1</td>\n",
       "    </tr>\n",
       "    <tr>\n",
       "      <th>3</th>\n",
       "      <td>Grande Baia Resort &amp; SPA</td>\n",
       "      <td>30</td>\n",
       "      <td>PROS:</td>\n",
       "      <td>Honeymoon stay</td>\n",
       "      <td>0</td>\n",
       "      <td>Honeymoon stay PROS:</td>\n",
       "      <td>[honeymoon, stay, pros]</td>\n",
       "      <td>[trips, stayed, aficionados]</td>\n",
       "      <td>0.000</td>\n",
       "      <td>0</td>\n",
       "    </tr>\n",
       "    <tr>\n",
       "      <th>4</th>\n",
       "      <td>Hotel Cala Cuncheddi</td>\n",
       "      <td>50</td>\n",
       "      <td>We have spent 2 holidays in this place and boo...</td>\n",
       "      <td>Best family holidays, great service&amp;beautiful ...</td>\n",
       "      <td>1</td>\n",
       "      <td>Best family holidays, great service&amp;beautiful ...</td>\n",
       "      <td>[best, family, holidays, great, service, beaut...</td>\n",
       "      <td>[well, daughter, christmas, well, services, go...</td>\n",
       "      <td>2.250</td>\n",
       "      <td>1</td>\n",
       "    </tr>\n",
       "  </tbody>\n",
       "</table>\n",
       "</div>"
      ],
      "text/plain": [
       "                  hotelname  rating  \\\n",
       "0         Hotel Villa Piras      30   \n",
       "1         Hotel Villa Piras      40   \n",
       "2         Hotel Punta Negra      50   \n",
       "3  Grande Baia Resort & SPA      30   \n",
       "4      Hotel Cala Cuncheddi      50   \n",
       "\n",
       "                                       reviewcontent  \\\n",
       "0  My husband and I stayed here for two nights. I...   \n",
       "1  We arrived at the hotel late afternoon to a wa...   \n",
       "2  My wife and i stayed for 3 nights in early Sep...   \n",
       "3                                              PROS:   \n",
       "4  We have spent 2 holidays in this place and boo...   \n",
       "\n",
       "                                         reviewtitle  true_sentiment  \\\n",
       "0                        Poor Management, Nice Staff               0   \n",
       "1                           Lovely hotel on the hill               1   \n",
       "2                           Had a really lovely time               1   \n",
       "3                                     Honeymoon stay               0   \n",
       "4  Best family holidays, great service&beautiful ...               1   \n",
       "\n",
       "                                         full_review  \\\n",
       "0  Poor Management, Nice Staff My husband and I s...   \n",
       "1  Lovely hotel on the hill We arrived at the hot...   \n",
       "2  Had a really lovely time My wife and i stayed ...   \n",
       "3                               Honeymoon stay PROS:   \n",
       "4  Best family holidays, great service&beautiful ...   \n",
       "\n",
       "                                              tokens  \\\n",
       "0  [poor, management, nice, staff, husband, staye...   \n",
       "1  [lovely, hotel, hill, arrived, hotel, late, af...   \n",
       "2  [really, lovely, time, wife, stayed, three, ni...   \n",
       "3                            [honeymoon, stay, pros]   \n",
       "4  [best, family, holidays, great, service, beaut...   \n",
       "\n",
       "                                  replaced_centroids  sentiment_score  \\\n",
       "0  [particularly, enterprise, maybe, office, daug...            0.875   \n",
       "1  [gorgeous, hotel, pine, arriving, hotel, came,...            1.750   \n",
       "2  [maybe, gorgeous, though, daughter, stayed, ei...            0.750   \n",
       "3                       [trips, stayed, aficionados]            0.000   \n",
       "4  [well, daughter, christmas, well, services, go...            2.250   \n",
       "\n",
       "   predicted_sentiment  \n",
       "0                    1  \n",
       "1                    1  \n",
       "2                    1  \n",
       "3                    0  \n",
       "4                    1  "
      ]
     },
     "execution_count": 17,
     "metadata": {},
     "output_type": "execute_result"
    }
   ],
   "source": [
    "reviews.head()"
   ]
  },
  {
   "cell_type": "code",
   "execution_count": 11,
   "metadata": {},
   "outputs": [
    {
     "data": {
      "text/plain": [
       "0.7432107604971104"
      ]
     },
     "execution_count": 11,
     "metadata": {},
     "output_type": "execute_result"
    }
   ],
   "source": [
    "accuracy_score(reviews[\"true_sentiment\"], y_classified)"
   ]
  },
  {
   "cell_type": "code",
   "execution_count": 12,
   "metadata": {
    "scrolled": true
   },
   "outputs": [
    {
     "data": {
      "text/plain": [
       "array([0.19904332, 0.06845476, 0.85687319])"
      ]
     },
     "execution_count": 12,
     "metadata": {},
     "output_type": "execute_result"
    }
   ],
   "source": [
    "f1_score(reviews[\"true_sentiment\"], y_classified, average=None)"
   ]
  },
  {
   "cell_type": "code",
   "execution_count": 23,
   "metadata": {},
   "outputs": [
    {
     "name": "stdout",
     "output_type": "stream",
     "text": [
      "user_rating: 30\n",
      "review: Poor Management, Nice Staff My husband and I stayed here for two nights. It’s located a mile from the city center — a lovely walk along the water. \n",
      "tokens: ['poor', 'management', 'nice', 'staff', 'husband', 'stayed', 'two', 'nights', 'located', 'mile', 'city', 'center', 'lovely', 'walk', 'along', 'water']\n",
      "replaced centroids: ['particularly', 'enterprise', 'maybe', 'office', 'daughter', 'stayed', 'eight', 'evenings', 'situated', 'kilometer', 'city', 'centers', 'gorgeous', 'walk', 'along', 'seawater']\n",
      "sentiment_score: 0.875 \n",
      "\n",
      "user_rating: 50\n",
      "review: Wonderful people and place. Our stay was so amazing. The hosts Antonello and Vanna were very friendly and helpful. The breakfast was lovely and also the place was very authentic, tidy and clean. All the recommendations from them about routes, sightseeing, restaurants and beaches were very appreciated. We would definitely recommend La Peonia B&B to everyone who intends to visit this part of Sardinia.\n",
      "tokens: ['wonderful', 'people', 'place', 'stay', 'amazing', 'hosts', 'antonello', 'vanna', 'friendly', 'helpful', 'breakfast', 'lovely', 'also', 'place', 'authentic', 'tidy', 'clean', 'recommendations', 'routes', 'sightseeing', 'restaurants', 'beaches', 'appreciated', 'would', 'definitely', 'recommend', 'la', 'peonia', 'b', 'b', 'everyone', 'intends', 'visit', 'part', 'sardinia']\n",
      "replaced centroids: ['amazing', 'citizens', 'well', 'stayed', 'amazing', 'hosting', 'contini', 'freddo', 'encounter', 'useful', 'breakfast', 'gorgeous', 'well', 'well', 'wholesome', 'dingy', 'cleaning', 'recommended', 'flights', 'trips', 'restaurant', 'coasts', 'remembered', 'could', 'maybe', 'recommended', 'la', 'peonia', 'b', 'b', 'else', 'promised', 'visit', 'part', 'tuscany']\n",
      "sentiment_score: -0.125 \n",
      "\n",
      "user_rating: 50\n",
      "review: First taste of Sardinian hospitality ! Cagliari and La Peonia was our first stop in our Sardinian adventure. About 15 minutes driving distance from the airport, with an easy access to parking and warm (despite of our after midnight arrival)welcome from the host Antonello gave us already a very good feeling for the days to come. Nicely decorated (Italian touch!)and clean rooms made it a very pleasant place to stay, not mentioning a very tasty and extensive breakfast prepared by Vanna.Great recommendation from Antonello to take a bus to the city center, safes you time,money and surely some parking stress! Cagliari is a very nice city to visit.Lots of culture, charming, little streets and good local restaurants !(try Ammentos! )\n",
      "tokens: ['first', 'taste', 'sardinian', 'hospitality', 'cagliari', 'la', 'peonia', 'first', 'stop', 'sardinian', 'adventure', 'fifteen', 'minutes', 'driving', 'distance', 'airport', 'easy', 'access', 'parking', 'warm', 'despite', 'midnight', 'arrival', 'welcome', 'host', 'antonello', 'gave', 'us', 'already', 'good', 'feeling', 'days', 'come', 'nicely', 'decorated', 'italian', 'touch', 'clean', 'rooms', 'made', 'pleasant', 'place', 'stay', 'not', 'mentioning', 'tasty', 'extensive', 'breakfast', 'prepared', 'recommendation', 'antonello', 'take', 'bus', 'city', 'center', 'safes', 'time', 'money', 'surely', 'parking', 'stress', 'cagliari', 'nice', 'city', 'culture', 'charming', 'little', 'streets', 'good', 'local', 'restaurants', 'try', 'ammentos']\n",
      "replaced centroids: ['later', 'flavor', 'sardinian', 'lodging', 'parma', 'la', 'peonia', 'later', 'stopping', 'sardinian', 'fantasy', 'fourteen', 'minutes', 'driving', 'speed', 'transit', 'better', 'provides', 'rent', 'cool', 'though', 'dusk', 'arriving', 'occasion', 'hosting', 'contini', 'giving', 'meanwhile', 'though', 'better', 'surprised', 'week', 'come', 'wonderfully', 'painted', 'spanish', 'sight', 'cleaning', 'suites', 'well', 'gorgeous', 'well', 'stayed', 'could', 'acknowledges', 'tasty', 'addition', 'breakfast', 'preparing', 'recommended', 'contini', 'come', 'train', 'city', 'centers', 'alcoves', 'though', 'credit', 'surely', 'rent', 'cause', 'parma', 'maybe', 'city', 'traditions', 'gorgeous', 'though', 'lining', 'better', 'addition', 'restaurant', 'come', 'ammentos']\n",
      "sentiment_score: 3.375 \n",
      "\n",
      "user_rating: 50\n",
      "review: Fantastic stay We really enjoyed our stay in this hotel. Elisabbeta was very helpful and she gave us excellent recommendations and places to eat and visit. \n",
      "tokens: ['fantastic', 'stay', 'really', 'enjoyed', 'stay', 'hotel', 'elisabbeta', 'helpful', 'gave', 'us', 'excellent', 'recommendations', 'places', 'eat', 'visit']\n",
      "replaced centroids: ['amazing', 'stayed', 'maybe', 'enjoying', 'stayed', 'hotel', 'elisabbeta', 'useful', 'giving', 'meanwhile', 'exceptional', 'recommended', 'well', 'ate', 'visit']\n",
      "sentiment_score: 0.125 \n",
      "\n",
      "user_rating: 40\n",
      "review: Good hotel just outside the busy area  Stayed here for three nights during a business trip. The hotel is located just outside of the busy tourist area. \n",
      "tokens: ['good', 'hotel', 'outside', 'busy', 'area', 'stayed', 'three', 'nights', 'business', 'trip', 'hotel', 'located', 'outside', 'busy', 'tourist', 'area']\n",
      "replaced centroids: ['better', 'hotel', 'inside', 'bustling', 'part', 'stayed', 'eight', 'evenings', 'businesses', 'trips', 'hotel', 'situated', 'inside', 'bustling', 'attraction', 'part']\n",
      "sentiment_score: 0.5 \n",
      "\n"
     ]
    }
   ],
   "source": [
    "#Some examples:\n",
    "for n in range(0,100,20):\n",
    "    print(\"user_rating:\",reviews[\"rating\"][n] )\n",
    "    print(\"review:\",reviews[\"full_review\"][n])\n",
    "    print(\"tokens:\",reviews[\"tokens\"][n])\n",
    "    print(\"replaced centroids:\",reviews[\"replaced_centroids\"][n])\n",
    "    print(\"sentiment_score:\",reviews[\"sentiment_score\"][n],'\\n')"
   ]
  }
 ],
 "metadata": {
  "kernelspec": {
   "display_name": "Python 3",
   "language": "python",
   "name": "python3"
  },
  "language_info": {
   "codemirror_mode": {
    "name": "ipython",
    "version": 3
   },
   "file_extension": ".py",
   "mimetype": "text/x-python",
   "name": "python",
   "nbconvert_exporter": "python",
   "pygments_lexer": "ipython3",
   "version": "3.6.10"
  }
 },
 "nbformat": 4,
 "nbformat_minor": 4
}
